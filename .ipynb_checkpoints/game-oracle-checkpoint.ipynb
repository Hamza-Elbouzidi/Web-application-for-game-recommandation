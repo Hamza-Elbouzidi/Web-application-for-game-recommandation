{
 "cells": [
  {
   "cell_type": "code",
   "execution_count": 2,
   "id": "01fc3d55-f61e-41cb-b4b2-ef29f0ff407f",
   "metadata": {},
   "outputs": [
    {
     "name": "stderr",
     "output_type": "stream",
     "text": [
      "The installed version of bitsandbytes was compiled without GPU support. 8-bit optimizers, 8-bit multiplication, and GPU quantization are unavailable.\n",
      "C:\\Users\\pc\\AppData\\Local\\Programs\\Python\\Python312\\Lib\\site-packages\\tqdm\\auto.py:21: TqdmWarning: IProgress not found. Please update jupyter and ipywidgets. See https://ipywidgets.readthedocs.io/en/stable/user_install.html\n",
      "  from .autonotebook import tqdm as notebook_tqdm\n"
     ]
    },
    {
     "name": "stdout",
     "output_type": "stream",
     "text": [
      "WARNING:tensorflow:From C:\\Users\\pc\\AppData\\Local\\Programs\\Python\\Python312\\Lib\\site-packages\\tf_keras\\src\\losses.py:2976: The name tf.losses.sparse_softmax_cross_entropy is deprecated. Please use tf.compat.v1.losses.sparse_softmax_cross_entropy instead.\n",
      "\n"
     ]
    }
   ],
   "source": [
    "import pandas as pd\n",
    "from angle_emb import AnglE\n",
    "angle = AnglE.from_pretrained('WhereIsAI/UAE-Large-V1', pooling_strategy='cls').cuda()"
   ]
  },
  {
   "cell_type": "code",
   "execution_count": 3,
   "id": "54c2797b-ab3f-4739-a187-e3dc6c109429",
   "metadata": {},
   "outputs": [
    {
     "data": {
      "text/html": [
       "<div>\n",
       "<style scoped>\n",
       "    .dataframe tbody tr th:only-of-type {\n",
       "        vertical-align: middle;\n",
       "    }\n",
       "\n",
       "    .dataframe tbody tr th {\n",
       "        vertical-align: top;\n",
       "    }\n",
       "\n",
       "    .dataframe thead th {\n",
       "        text-align: right;\n",
       "    }\n",
       "</style>\n",
       "<table border=\"1\" class=\"dataframe\">\n",
       "  <thead>\n",
       "    <tr style=\"text-align: right;\">\n",
       "      <th></th>\n",
       "      <th>appid</th>\n",
       "      <th>name</th>\n",
       "      <th>release_date</th>\n",
       "      <th>english</th>\n",
       "      <th>developer</th>\n",
       "      <th>publisher</th>\n",
       "      <th>platforms</th>\n",
       "      <th>required_age</th>\n",
       "      <th>categories</th>\n",
       "      <th>genres</th>\n",
       "      <th>steamspy_tags</th>\n",
       "      <th>achievements</th>\n",
       "      <th>positive_ratings</th>\n",
       "      <th>negative_ratings</th>\n",
       "      <th>average_playtime</th>\n",
       "      <th>median_playtime</th>\n",
       "      <th>owners</th>\n",
       "      <th>price</th>\n",
       "    </tr>\n",
       "  </thead>\n",
       "  <tbody>\n",
       "    <tr>\n",
       "      <th>15136</th>\n",
       "      <td>654940</td>\n",
       "      <td>RXE</td>\n",
       "      <td>2017-07-21</td>\n",
       "      <td>1</td>\n",
       "      <td>Buce Studios LLC</td>\n",
       "      <td>Buce Studios LLC</td>\n",
       "      <td>windows;mac;linux</td>\n",
       "      <td>0</td>\n",
       "      <td>Single-player;Multi-player;Steam Achievements;...</td>\n",
       "      <td>Indie;Simulation;Early Access</td>\n",
       "      <td>Early Access;Indie;Simulation</td>\n",
       "      <td>2</td>\n",
       "      <td>1</td>\n",
       "      <td>3</td>\n",
       "      <td>0</td>\n",
       "      <td>0</td>\n",
       "      <td>0-20000</td>\n",
       "      <td>4.79</td>\n",
       "    </tr>\n",
       "    <tr>\n",
       "      <th>12395</th>\n",
       "      <td>566980</td>\n",
       "      <td>Crashimals</td>\n",
       "      <td>2017-09-07</td>\n",
       "      <td>1</td>\n",
       "      <td>Rogue Earth LLC</td>\n",
       "      <td>GAMEPUMP</td>\n",
       "      <td>windows</td>\n",
       "      <td>0</td>\n",
       "      <td>Single-player</td>\n",
       "      <td>Action;Casual;Indie;Strategy</td>\n",
       "      <td>Action;Casual;Indie</td>\n",
       "      <td>0</td>\n",
       "      <td>10</td>\n",
       "      <td>0</td>\n",
       "      <td>0</td>\n",
       "      <td>0</td>\n",
       "      <td>0-20000</td>\n",
       "      <td>0.79</td>\n",
       "    </tr>\n",
       "    <tr>\n",
       "      <th>18844</th>\n",
       "      <td>757690</td>\n",
       "      <td>Limit of defense</td>\n",
       "      <td>2017-12-16</td>\n",
       "      <td>1</td>\n",
       "      <td>Jl Apps</td>\n",
       "      <td>Jl Apps</td>\n",
       "      <td>windows</td>\n",
       "      <td>0</td>\n",
       "      <td>Single-player</td>\n",
       "      <td>Indie</td>\n",
       "      <td>Indie</td>\n",
       "      <td>0</td>\n",
       "      <td>0</td>\n",
       "      <td>1</td>\n",
       "      <td>0</td>\n",
       "      <td>0</td>\n",
       "      <td>0-20000</td>\n",
       "      <td>2.09</td>\n",
       "    </tr>\n",
       "  </tbody>\n",
       "</table>\n",
       "</div>"
      ],
      "text/plain": [
       "        appid              name release_date  english         developer  \\\n",
       "15136  654940               RXE   2017-07-21        1  Buce Studios LLC   \n",
       "12395  566980        Crashimals   2017-09-07        1   Rogue Earth LLC   \n",
       "18844  757690  Limit of defense   2017-12-16        1           Jl Apps   \n",
       "\n",
       "              publisher          platforms  required_age  \\\n",
       "15136  Buce Studios LLC  windows;mac;linux             0   \n",
       "12395          GAMEPUMP            windows             0   \n",
       "18844           Jl Apps            windows             0   \n",
       "\n",
       "                                              categories  \\\n",
       "15136  Single-player;Multi-player;Steam Achievements;...   \n",
       "12395                                      Single-player   \n",
       "18844                                      Single-player   \n",
       "\n",
       "                              genres                  steamspy_tags  \\\n",
       "15136  Indie;Simulation;Early Access  Early Access;Indie;Simulation   \n",
       "12395   Action;Casual;Indie;Strategy            Action;Casual;Indie   \n",
       "18844                          Indie                          Indie   \n",
       "\n",
       "       achievements  positive_ratings  negative_ratings  average_playtime  \\\n",
       "15136             2                 1                 3                 0   \n",
       "12395             0                10                 0                 0   \n",
       "18844             0                 0                 1                 0   \n",
       "\n",
       "       median_playtime   owners  price  \n",
       "15136                0  0-20000   4.79  \n",
       "12395                0  0-20000   0.79  \n",
       "18844                0  0-20000   2.09  "
      ]
     },
     "execution_count": 3,
     "metadata": {},
     "output_type": "execute_result"
    }
   ],
   "source": [
    "df = pd.read_csv(\"data/data-with-media/steam.csv\")\n",
    "df.sample(3)"
   ]
  },
  {
   "cell_type": "code",
   "execution_count": 4,
   "id": "6b4a4779-8804-4626-8c9d-a07269f396c5",
   "metadata": {},
   "outputs": [
    {
     "data": {
      "text/html": [
       "<div>\n",
       "<style scoped>\n",
       "    .dataframe tbody tr th:only-of-type {\n",
       "        vertical-align: middle;\n",
       "    }\n",
       "\n",
       "    .dataframe tbody tr th {\n",
       "        vertical-align: top;\n",
       "    }\n",
       "\n",
       "    .dataframe thead th {\n",
       "        text-align: right;\n",
       "    }\n",
       "</style>\n",
       "<table border=\"1\" class=\"dataframe\">\n",
       "  <thead>\n",
       "    <tr style=\"text-align: right;\">\n",
       "      <th></th>\n",
       "      <th>steam_appid</th>\n",
       "      <th>header_image</th>\n",
       "      <th>screenshots</th>\n",
       "      <th>background</th>\n",
       "      <th>movies</th>\n",
       "    </tr>\n",
       "  </thead>\n",
       "  <tbody>\n",
       "    <tr>\n",
       "      <th>147</th>\n",
       "      <td>6000</td>\n",
       "      <td>https://steamcdn-a.akamaihd.net/steam/apps/600...</td>\n",
       "      <td>[{'id': 0, 'path_thumbnail': 'https://steamcdn...</td>\n",
       "      <td>https://steamcdn-a.akamaihd.net/steam/apps/600...</td>\n",
       "      <td>[{'id': 256668530, 'name': 'Republic Commando ...</td>\n",
       "    </tr>\n",
       "    <tr>\n",
       "      <th>7830</th>\n",
       "      <td>434160</td>\n",
       "      <td>https://steamcdn-a.akamaihd.net/steam/apps/434...</td>\n",
       "      <td>[{'id': 0, 'path_thumbnail': 'https://steamcdn...</td>\n",
       "      <td>https://steamcdn-a.akamaihd.net/steam/apps/434...</td>\n",
       "      <td>[{'id': 256685194, 'name': 'A Hole New World -...</td>\n",
       "    </tr>\n",
       "    <tr>\n",
       "      <th>21042</th>\n",
       "      <td>816750</td>\n",
       "      <td>https://steamcdn-a.akamaihd.net/steam/apps/816...</td>\n",
       "      <td>[{'id': 0, 'path_thumbnail': 'https://steamcdn...</td>\n",
       "      <td>https://steamcdn-a.akamaihd.net/steam/apps/816...</td>\n",
       "      <td>[{'id': 256710161, 'name': 'Travildorn', 'thum...</td>\n",
       "    </tr>\n",
       "  </tbody>\n",
       "</table>\n",
       "</div>"
      ],
      "text/plain": [
       "       steam_appid                                       header_image  \\\n",
       "147           6000  https://steamcdn-a.akamaihd.net/steam/apps/600...   \n",
       "7830        434160  https://steamcdn-a.akamaihd.net/steam/apps/434...   \n",
       "21042       816750  https://steamcdn-a.akamaihd.net/steam/apps/816...   \n",
       "\n",
       "                                             screenshots  \\\n",
       "147    [{'id': 0, 'path_thumbnail': 'https://steamcdn...   \n",
       "7830   [{'id': 0, 'path_thumbnail': 'https://steamcdn...   \n",
       "21042  [{'id': 0, 'path_thumbnail': 'https://steamcdn...   \n",
       "\n",
       "                                              background  \\\n",
       "147    https://steamcdn-a.akamaihd.net/steam/apps/600...   \n",
       "7830   https://steamcdn-a.akamaihd.net/steam/apps/434...   \n",
       "21042  https://steamcdn-a.akamaihd.net/steam/apps/816...   \n",
       "\n",
       "                                                  movies  \n",
       "147    [{'id': 256668530, 'name': 'Republic Commando ...  \n",
       "7830   [{'id': 256685194, 'name': 'A Hole New World -...  \n",
       "21042  [{'id': 256710161, 'name': 'Travildorn', 'thum...  "
      ]
     },
     "execution_count": 4,
     "metadata": {},
     "output_type": "execute_result"
    }
   ],
   "source": [
    "media_df = pd.read_csv(\"data/data-with-media/steam_media_data.csv\")\n",
    "media_df.sample(3)"
   ]
  },
  {
   "cell_type": "code",
   "execution_count": 5,
   "id": "d5ac294c-9562-4b41-83de-b2de1482daa3",
   "metadata": {},
   "outputs": [],
   "source": [
    "games_df = pd.read_csv(\"data/data-with-media/steam.csv\")\n",
    "media_df = pd.read_csv(\"data/data-with-media/steam_media_data.csv\")\n",
    "description_df = pd.read_csv(\"data/data-with-media/steam_description_data.csv\")\n"
   ]
  },
  {
   "cell_type": "code",
   "execution_count": 6,
   "id": "e52053f1-b542-413f-817a-76669abc62a2",
   "metadata": {},
   "outputs": [
    {
     "data": {
      "text/html": [
       "<div>\n",
       "<style scoped>\n",
       "    .dataframe tbody tr th:only-of-type {\n",
       "        vertical-align: middle;\n",
       "    }\n",
       "\n",
       "    .dataframe tbody tr th {\n",
       "        vertical-align: top;\n",
       "    }\n",
       "\n",
       "    .dataframe thead th {\n",
       "        text-align: right;\n",
       "    }\n",
       "</style>\n",
       "<table border=\"1\" class=\"dataframe\">\n",
       "  <thead>\n",
       "    <tr style=\"text-align: right;\">\n",
       "      <th></th>\n",
       "      <th>4542</th>\n",
       "      <th>19813</th>\n",
       "      <th>143</th>\n",
       "    </tr>\n",
       "  </thead>\n",
       "  <tbody>\n",
       "    <tr>\n",
       "      <th>appid</th>\n",
       "      <td>341780</td>\n",
       "      <td>785870</td>\n",
       "      <td>4880</td>\n",
       "    </tr>\n",
       "    <tr>\n",
       "      <th>name</th>\n",
       "      <td>Chronicles of a Dark Lord: Episode II War of T...</td>\n",
       "      <td>Admine</td>\n",
       "      <td>Cossacks: European Wars</td>\n",
       "    </tr>\n",
       "    <tr>\n",
       "      <th>release_date</th>\n",
       "      <td>2015-01-16</td>\n",
       "      <td>2018-02-16</td>\n",
       "      <td>2011-08-26</td>\n",
       "    </tr>\n",
       "    <tr>\n",
       "      <th>english</th>\n",
       "      <td>1</td>\n",
       "      <td>1</td>\n",
       "      <td>1</td>\n",
       "    </tr>\n",
       "    <tr>\n",
       "      <th>developer</th>\n",
       "      <td>Kisareth Studios</td>\n",
       "      <td>Irbynx</td>\n",
       "      <td>GSC Game World</td>\n",
       "    </tr>\n",
       "    <tr>\n",
       "      <th>publisher</th>\n",
       "      <td>Kisareth Studios</td>\n",
       "      <td>Irbynx</td>\n",
       "      <td>GSC World Publishing</td>\n",
       "    </tr>\n",
       "    <tr>\n",
       "      <th>platforms</th>\n",
       "      <td>windows</td>\n",
       "      <td>windows;linux</td>\n",
       "      <td>windows</td>\n",
       "    </tr>\n",
       "    <tr>\n",
       "      <th>required_age</th>\n",
       "      <td>0</td>\n",
       "      <td>0</td>\n",
       "      <td>0</td>\n",
       "    </tr>\n",
       "    <tr>\n",
       "      <th>categories</th>\n",
       "      <td>Single-player;Steam Achievements;Full controll...</td>\n",
       "      <td>Single-player;Steam Achievements;Steam Cloud;S...</td>\n",
       "      <td>Single-player</td>\n",
       "    </tr>\n",
       "    <tr>\n",
       "      <th>genres</th>\n",
       "      <td>Indie;RPG</td>\n",
       "      <td>Indie</td>\n",
       "      <td>Strategy</td>\n",
       "    </tr>\n",
       "    <tr>\n",
       "      <th>steamspy_tags</th>\n",
       "      <td>RPG;Indie;RPGMaker</td>\n",
       "      <td>Indie;Puzzle;Procedural Generation</td>\n",
       "      <td>Strategy;RTS;Historical</td>\n",
       "    </tr>\n",
       "    <tr>\n",
       "      <th>achievements</th>\n",
       "      <td>54</td>\n",
       "      <td>28</td>\n",
       "      <td>0</td>\n",
       "    </tr>\n",
       "    <tr>\n",
       "      <th>positive_ratings</th>\n",
       "      <td>31</td>\n",
       "      <td>3</td>\n",
       "      <td>170</td>\n",
       "    </tr>\n",
       "    <tr>\n",
       "      <th>negative_ratings</th>\n",
       "      <td>19</td>\n",
       "      <td>0</td>\n",
       "      <td>66</td>\n",
       "    </tr>\n",
       "    <tr>\n",
       "      <th>average_playtime</th>\n",
       "      <td>257</td>\n",
       "      <td>0</td>\n",
       "      <td>1</td>\n",
       "    </tr>\n",
       "    <tr>\n",
       "      <th>median_playtime</th>\n",
       "      <td>271</td>\n",
       "      <td>0</td>\n",
       "      <td>1</td>\n",
       "    </tr>\n",
       "    <tr>\n",
       "      <th>owners</th>\n",
       "      <td>50000-100000</td>\n",
       "      <td>0-20000</td>\n",
       "      <td>100000-200000</td>\n",
       "    </tr>\n",
       "    <tr>\n",
       "      <th>price</th>\n",
       "      <td>1.69</td>\n",
       "      <td>7.19</td>\n",
       "      <td>3.99</td>\n",
       "    </tr>\n",
       "    <tr>\n",
       "      <th>steam_appid</th>\n",
       "      <td>341780</td>\n",
       "      <td>785870</td>\n",
       "      <td>4880</td>\n",
       "    </tr>\n",
       "    <tr>\n",
       "      <th>header_image</th>\n",
       "      <td>https://steamcdn-a.akamaihd.net/steam/apps/341...</td>\n",
       "      <td>https://steamcdn-a.akamaihd.net/steam/apps/785...</td>\n",
       "      <td>https://steamcdn-a.akamaihd.net/steam/apps/488...</td>\n",
       "    </tr>\n",
       "    <tr>\n",
       "      <th>screenshots</th>\n",
       "      <td>[{'id': 0, 'path_thumbnail': 'https://steamcdn...</td>\n",
       "      <td>[{'id': 0, 'path_thumbnail': 'https://steamcdn...</td>\n",
       "      <td>[{'id': 0, 'path_thumbnail': 'https://steamcdn...</td>\n",
       "    </tr>\n",
       "    <tr>\n",
       "      <th>background</th>\n",
       "      <td>https://steamcdn-a.akamaihd.net/steam/apps/341...</td>\n",
       "      <td>https://steamcdn-a.akamaihd.net/steam/apps/785...</td>\n",
       "      <td>https://steamcdn-a.akamaihd.net/steam/apps/488...</td>\n",
       "    </tr>\n",
       "    <tr>\n",
       "      <th>movies</th>\n",
       "      <td>[{'id': 2036428, 'name': 'Chronicles of a Dark...</td>\n",
       "      <td>[{'id': 256707051, 'name': 'Gameplay Trailer',...</td>\n",
       "      <td>NaN</td>\n",
       "    </tr>\n",
       "    <tr>\n",
       "      <th>detailed_description</th>\n",
       "      <td>A year has passed since Anto Calias fused with...</td>\n",
       "      <td>Admine is a new take on a classic minesweeper ...</td>\n",
       "      <td>Cossacks: European Wars is a historical real-t...</td>\n",
       "    </tr>\n",
       "    <tr>\n",
       "      <th>about_the_game</th>\n",
       "      <td>A year has passed since Anto Calias fused with...</td>\n",
       "      <td>Admine is a new take on a classic minesweeper ...</td>\n",
       "      <td>Cossacks: European Wars is a historical real-t...</td>\n",
       "    </tr>\n",
       "    <tr>\n",
       "      <th>short_description</th>\n",
       "      <td>Experience the 30+ hour long continuation of t...</td>\n",
       "      <td>Admine is a new take on a classic minesweeper ...</td>\n",
       "      <td>This game is devoted to the key events of the ...</td>\n",
       "    </tr>\n",
       "    <tr>\n",
       "      <th>text</th>\n",
       "      <td>Game name : Chronicles of a Dark Lord: Episode...</td>\n",
       "      <td>Game name : Admine\\nDeveloper : Irbynx\\nGenres...</td>\n",
       "      <td>Game name : Cossacks: European Wars\\nDeveloper...</td>\n",
       "    </tr>\n",
       "    <tr>\n",
       "      <th>minimum_owners</th>\n",
       "      <td>50000</td>\n",
       "      <td>0</td>\n",
       "      <td>100000</td>\n",
       "    </tr>\n",
       "  </tbody>\n",
       "</table>\n",
       "</div>"
      ],
      "text/plain": [
       "                                                                  4542   \\\n",
       "appid                                                            341780   \n",
       "name                  Chronicles of a Dark Lord: Episode II War of T...   \n",
       "release_date                                                 2015-01-16   \n",
       "english                                                               1   \n",
       "developer                                              Kisareth Studios   \n",
       "publisher                                              Kisareth Studios   \n",
       "platforms                                                       windows   \n",
       "required_age                                                          0   \n",
       "categories            Single-player;Steam Achievements;Full controll...   \n",
       "genres                                                        Indie;RPG   \n",
       "steamspy_tags                                        RPG;Indie;RPGMaker   \n",
       "achievements                                                         54   \n",
       "positive_ratings                                                     31   \n",
       "negative_ratings                                                     19   \n",
       "average_playtime                                                    257   \n",
       "median_playtime                                                     271   \n",
       "owners                                                     50000-100000   \n",
       "price                                                              1.69   \n",
       "steam_appid                                                      341780   \n",
       "header_image          https://steamcdn-a.akamaihd.net/steam/apps/341...   \n",
       "screenshots           [{'id': 0, 'path_thumbnail': 'https://steamcdn...   \n",
       "background            https://steamcdn-a.akamaihd.net/steam/apps/341...   \n",
       "movies                [{'id': 2036428, 'name': 'Chronicles of a Dark...   \n",
       "detailed_description  A year has passed since Anto Calias fused with...   \n",
       "about_the_game        A year has passed since Anto Calias fused with...   \n",
       "short_description     Experience the 30+ hour long continuation of t...   \n",
       "text                  Game name : Chronicles of a Dark Lord: Episode...   \n",
       "minimum_owners                                                    50000   \n",
       "\n",
       "                                                                  19813  \\\n",
       "appid                                                            785870   \n",
       "name                                                             Admine   \n",
       "release_date                                                 2018-02-16   \n",
       "english                                                               1   \n",
       "developer                                                        Irbynx   \n",
       "publisher                                                        Irbynx   \n",
       "platforms                                                 windows;linux   \n",
       "required_age                                                          0   \n",
       "categories            Single-player;Steam Achievements;Steam Cloud;S...   \n",
       "genres                                                            Indie   \n",
       "steamspy_tags                        Indie;Puzzle;Procedural Generation   \n",
       "achievements                                                         28   \n",
       "positive_ratings                                                      3   \n",
       "negative_ratings                                                      0   \n",
       "average_playtime                                                      0   \n",
       "median_playtime                                                       0   \n",
       "owners                                                          0-20000   \n",
       "price                                                              7.19   \n",
       "steam_appid                                                      785870   \n",
       "header_image          https://steamcdn-a.akamaihd.net/steam/apps/785...   \n",
       "screenshots           [{'id': 0, 'path_thumbnail': 'https://steamcdn...   \n",
       "background            https://steamcdn-a.akamaihd.net/steam/apps/785...   \n",
       "movies                [{'id': 256707051, 'name': 'Gameplay Trailer',...   \n",
       "detailed_description  Admine is a new take on a classic minesweeper ...   \n",
       "about_the_game        Admine is a new take on a classic minesweeper ...   \n",
       "short_description     Admine is a new take on a classic minesweeper ...   \n",
       "text                  Game name : Admine\\nDeveloper : Irbynx\\nGenres...   \n",
       "minimum_owners                                                        0   \n",
       "\n",
       "                                                                  143    \n",
       "appid                                                              4880  \n",
       "name                                            Cossacks: European Wars  \n",
       "release_date                                                 2011-08-26  \n",
       "english                                                               1  \n",
       "developer                                                GSC Game World  \n",
       "publisher                                          GSC World Publishing  \n",
       "platforms                                                       windows  \n",
       "required_age                                                          0  \n",
       "categories                                                Single-player  \n",
       "genres                                                         Strategy  \n",
       "steamspy_tags                                   Strategy;RTS;Historical  \n",
       "achievements                                                          0  \n",
       "positive_ratings                                                    170  \n",
       "negative_ratings                                                     66  \n",
       "average_playtime                                                      1  \n",
       "median_playtime                                                       1  \n",
       "owners                                                    100000-200000  \n",
       "price                                                              3.99  \n",
       "steam_appid                                                        4880  \n",
       "header_image          https://steamcdn-a.akamaihd.net/steam/apps/488...  \n",
       "screenshots           [{'id': 0, 'path_thumbnail': 'https://steamcdn...  \n",
       "background            https://steamcdn-a.akamaihd.net/steam/apps/488...  \n",
       "movies                                                              NaN  \n",
       "detailed_description  Cossacks: European Wars is a historical real-t...  \n",
       "about_the_game        Cossacks: European Wars is a historical real-t...  \n",
       "short_description     This game is devoted to the key events of the ...  \n",
       "text                  Game name : Cossacks: European Wars\\nDeveloper...  \n",
       "minimum_owners                                                   100000  "
      ]
     },
     "execution_count": 6,
     "metadata": {},
     "output_type": "execute_result"
    }
   ],
   "source": [
    "df = games_df.merge(media_df, left_on=\"appid\" , right_on=\"steam_appid\").merge(description_df, on=\"steam_appid\")\n",
    "game_texts = []\n",
    "for _, row in df.iterrows():\n",
    "    game_text = f'''Game name : {row[\"name\"]}\n",
    "Developer : {row[\"developer\"]}\n",
    "Genres : {row[\"genres\"]}\n",
    "Summary : {row[\"short_description\"]}'''\n",
    "    game_texts.append(game_text)\n",
    "df[\"text\"] = game_texts\n",
    "df[\"minimum_owners\"] = df [\"owners\"].apply(lambda v : int(v.split(\"-\")[0]))\n",
    "df.sample(3).T"
   ]
  },
  {
   "cell_type": "code",
   "execution_count": 7,
   "id": "1bdfda5e-2c76-4aaf-9f62-101f7bc21da8",
   "metadata": {},
   "outputs": [],
   "source": [
    "df[\"minimum_owners\"] = df [\"owners\"].apply(lambda v : int(v.split(\"-\")[0]))\n",
    "df = df.sort_values(\"minimum_owners\",ascending = False)"
   ]
  },
  {
   "cell_type": "code",
   "execution_count": 8,
   "id": "21eb7b3c-cf9a-4fd9-89fa-d9869ae57762",
   "metadata": {},
   "outputs": [
    {
     "data": {
      "text/html": [
       "<h3>Sins of a Solar Empire: Rebellion®</h3><strong>Indie;Strategy</strong><p>Command a space-faring empire in Sins of a Solar Empire: Rebellion, the new stand-alone expansion that combines 4X depth with real-time strategy gameplay.</p><img src =\"https://steamcdn-a.akamaihd.net/steam/apps/204880/header.jpg?t=1545069627\">"
      ],
      "text/plain": [
       "<IPython.core.display.HTML object>"
      ]
     },
     "metadata": {},
     "output_type": "display_data"
    }
   ],
   "source": [
    "from IPython.display import display , HTML\n",
    "def display_game(row):\n",
    "    html =''\n",
    "    html +=  f'<h3>{row[\"name\"]}</h3>'\n",
    "    html +=  f'<strong>{row[\"genres\"]}</strong>'\n",
    "    html +=  f'<p>{row[\"short_description\"]}</p>'\n",
    "    html +=  f'<img src =\"{row[\"header_image\"]}\">'\n",
    "    display(HTML(html))\n",
    "    \n",
    "for _, row in df.sample(1, random_state=0).iterrows():\n",
    "    display_game(row)"
   ]
  },
  {
   "cell_type": "code",
   "execution_count": 12,
   "id": "42b821da-b1fa-4fd4-9ce2-88a0007cf60d",
   "metadata": {},
   "outputs": [
    {
     "name": "stdout",
     "output_type": "stream",
     "text": [
      "0 / 80\n",
      "5 / 80\n",
      "10 / 80\n",
      "15 / 80\n",
      "20 / 80\n",
      "25 / 80\n",
      "30 / 80\n",
      "35 / 80\n",
      "40 / 80\n",
      "45 / 80\n",
      "50 / 80\n",
      "55 / 80\n",
      "60 / 80\n",
      "65 / 80\n",
      "70 / 80\n",
      "75 / 80\n",
      "CPU times: total: 2h 18min 28s\n",
      "Wall time: 27min 4s\n"
     ]
    }
   ],
   "source": [
    "%%time\n",
    "import numpy as np\n",
    "top_df = df.sort_values(\"minimum_owners\",ascending = False).head(4000)\n",
    "embeddings = []\n",
    "batches = np.array_split(top_df[\"text\"], len(top_df) // 50)\n",
    "for idx, chunk_text in enumerate(batches):\n",
    "    if idx % 5 == 0:\n",
    "        print(f\"{idx} / {len(batches)}\")\n",
    "    embeddings +=  list(angle.encode(list(chunk_text), to_numpy=True))\n",
    "top_df[\"embedding\"] = embeddings"
   ]
  },
  {
   "cell_type": "code",
   "execution_count": 17,
   "id": "e512797a-65f2-4f56-b916-ca3bb7c1fc72",
   "metadata": {},
   "outputs": [
    {
     "data": {
      "text/html": [
       "<h3>DayZ</h3><strong>Action;Adventure;Massively Multiplayer</strong><p>The post-soviet country of Chernarus is struck by an unknown virus, turning the majority population into frenzied infected. Fighting over resources has bred a hostile mentality among survivors, driving what’s left of humanity to collapse. You are one of the few immune to the virus - how far will you go to survive?</p><img src =\"https://steamcdn-a.akamaihd.net/steam/apps/221100/header.jpg?t=1547207880\">"
      ],
      "text/plain": [
       "<IPython.core.display.HTML object>"
      ]
     },
     "metadata": {},
     "output_type": "display_data"
    },
    {
     "data": {
      "text/html": [
       "<h3>Rabiez: Epidemic</h3><strong>Indie;Strategy</strong><p>Real-time combat in the zombie apocalypse! Guide your survivors through hordes of the infected to escape the epicentre of infection!</p><img src =\"https://steamcdn-a.akamaihd.net/steam/apps/448630/header.jpg?t=1512241810\">"
      ],
      "text/plain": [
       "<IPython.core.display.HTML object>"
      ]
     },
     "metadata": {},
     "output_type": "display_data"
    },
    {
     "data": {
      "text/html": [
       "<h3>Zombie Zoeds</h3><strong>Action;Adventure;Casual;Indie</strong><p>Kill as many zombies as possible.</p><img src =\"https://steamcdn-a.akamaihd.net/steam/apps/366890/header.jpg?t=1538951894\">"
      ],
      "text/plain": [
       "<IPython.core.display.HTML object>"
      ]
     },
     "metadata": {},
     "output_type": "display_data"
    },
    {
     "data": {
      "text/html": [
       "<h3>SURVIVAL</h3><strong>Action;Adventure;Indie;Massively Multiplayer;Simulation;Early Access</strong><p>Multiplayer game about surviving in post-apocalyptic world.</p><img src =\"https://steamcdn-a.akamaihd.net/steam/apps/351290/header.jpg?t=1549370040\">"
      ],
      "text/plain": [
       "<IPython.core.display.HTML object>"
      ]
     },
     "metadata": {},
     "output_type": "display_data"
    },
    {
     "data": {
      "text/html": [
       "<h3>Rust</h3><strong>Action;Adventure;Indie;Massively Multiplayer;RPG</strong><p>The only aim in Rust is to survive. To do this you will need to overcome struggles such as hunger, thirst and cold. Build a fire. Build a shelter. Kill animals for meat. Protect yourself from other players, and kill them for meat. Create alliances with other players and form a town. Do whatever it takes to survive.</p><img src =\"https://steamcdn-a.akamaihd.net/steam/apps/252490/header.jpg?t=1549762598\">"
      ],
      "text/plain": [
       "<IPython.core.display.HTML object>"
      ]
     },
     "metadata": {},
     "output_type": "display_data"
    },
    {
     "data": {
      "text/html": [
       "<h3>Bloody Walls</h3><strong>Action;Free to Play;Indie</strong><p>The world was plunged into chaos following an accident at a bio-weapon research facility. 100% of the earth's population has been infected. There is an antidote that blocks infection from the airborne strain of the virus, but the effect is temporary.</p><img src =\"https://steamcdn-a.akamaihd.net/steam/apps/531960/header.jpg?t=1522067648\">"
      ],
      "text/plain": [
       "<IPython.core.display.HTML object>"
      ]
     },
     "metadata": {},
     "output_type": "display_data"
    },
    {
     "data": {
      "text/html": [
       "<h3>35MM</h3><strong>Indie</strong><p>Post-apocalyptic story about two travelers who set out on a long journey in the wasteland, left by people after the global epidemic.</p><img src =\"https://steamcdn-a.akamaihd.net/steam/apps/466500/header.jpg?t=1556101177\">"
      ],
      "text/plain": [
       "<IPython.core.display.HTML object>"
      ]
     },
     "metadata": {},
     "output_type": "display_data"
    },
    {
     "data": {
      "text/html": [
       "<h3>Dying Light</h3><strong>Action;RPG</strong><p>First-person action survival game set in a post-apocalyptic open world overrun by flesh-hungry zombies. Roam a city devastated by a mysterious virus epidemic. Scavenge for supplies, craft weapons, and face hordes of the infected.</p><img src =\"https://steamcdn-a.akamaihd.net/steam/apps/239140/header.jpg?t=1556201496\">"
      ],
      "text/plain": [
       "<IPython.core.display.HTML object>"
      ]
     },
     "metadata": {},
     "output_type": "display_data"
    }
   ],
   "source": [
    "from sklearn.metrics.pairwise import cosine_distances\n",
    "game_name = 'DayZ'\n",
    "game_row = top_df[top_df[\"name\"] == game_name].iloc[0]\n",
    "distances = cosine_distances(np.array([game_row.embedding]), np.array(top_df.embedding.tolist()))[0]\n",
    "sorted_indices = distances.argsort()\n",
    "for idx in sorted_indices[:8]:\n",
    "    similar_game = top_df.iloc[idx]\n",
    "    display_game(similar_game)"
   ]
  },
  {
   "cell_type": "code",
   "execution_count": 18,
   "id": "d439c1d2-4b14-4e6f-9cfe-ebf357665b44",
   "metadata": {},
   "outputs": [],
   "source": [
    "game_texts = []\n",
    "for _, row in df.iterrows():\n",
    "    game_text = f'''Game name : {row[\"name\"]}\n",
    "Developer : {row[\"developer\"]}\n",
    "Genres : {row[\"genres\"]}\n",
    "Summary : {row[\"short_description\"]}'''\n",
    "    game_texts.append(game_text)\n",
    "df[\"text\"] = game_texts"
   ]
  },
  {
   "cell_type": "code",
   "execution_count": 19,
   "id": "2561c0ad-50c7-41cb-8442-bf482f4ddf98",
   "metadata": {},
   "outputs": [],
   "source": [
    "top_df.to_parquet(\"data/game_database.parquet\")"
   ]
  },
  {
   "cell_type": "code",
   "execution_count": null,
   "id": "e216ed8a-b867-499f-b11c-d5c82d89d5d1",
   "metadata": {},
   "outputs": [],
   "source": [
    "import textdistance"
   ]
  },
  {
   "cell_type": "code",
   "execution_count": null,
   "id": "e7984382-3e2c-49ea-8a95-2ad2e576af13",
   "metadata": {},
   "outputs": [],
   "source": [
    "textdistance.levenshtein(\"path of ele\",\"path of exile\")"
   ]
  },
  {
   "cell_type": "code",
   "execution_count": null,
   "id": "d209d145-000a-4455-94e2-14d6ce10fcd1",
   "metadata": {},
   "outputs": [],
   "source": [
    "top_df[\"name\"].apply(lambda v : textdistance.levenshtein(v, \"path of exale\")).sort_values()"
   ]
  },
  {
   "cell_type": "code",
   "execution_count": null,
   "id": "eee8d359-7f5a-4786-9ba1-e00f37db1993",
   "metadata": {},
   "outputs": [],
   "source": [
    "top_df.loc[1772]"
   ]
  },
  {
   "cell_type": "code",
   "execution_count": null,
   "id": "3703d704-e5a4-4daa-a48a-9e534bda3391",
   "metadata": {},
   "outputs": [],
   "source": [
    "print(top_df[\"name\"].head(40).tolist())"
   ]
  },
  {
   "cell_type": "code",
   "execution_count": null,
   "id": "45f08aa8-64fd-4637-b904-a00f05eaad38",
   "metadata": {},
   "outputs": [],
   "source": [
    "df[\"embedding\"] = list(angle.encode(df[\"text\"].tolist(), to_numpy=True))"
   ]
  },
  {
   "cell_type": "code",
   "execution_count": null,
   "id": "b5aa89d9-be82-46e9-9781-5b21855a9d47",
   "metadata": {},
   "outputs": [],
   "source": [
    "list(angle.encode(df[\"short_description\"].tolist()[:100], to_numpy=True))"
   ]
  },
  {
   "cell_type": "code",
   "execution_count": null,
   "id": "3ded6638-86ee-4bf2-be0b-a0b2ce9dd229",
   "metadata": {},
   "outputs": [],
   "source": [
    "distances[distances.argsort()]"
   ]
  },
  {
   "cell_type": "code",
   "execution_count": null,
   "id": "ff2d10fe-2996-4cd9-95e4-40d551a0e7e5",
   "metadata": {},
   "outputs": [],
   "source": [
    "#pip install -U angle-emb"
   ]
  },
  {
   "cell_type": "code",
   "execution_count": null,
   "id": "164f40c3-e307-439f-a257-3fc8f2363a95",
   "metadata": {},
   "outputs": [],
   "source": [
    "#pip install tf-keras"
   ]
  },
  {
   "cell_type": "code",
   "execution_count": null,
   "id": "8c972717-1e08-41dd-a1d1-e7cd9b690906",
   "metadata": {},
   "outputs": [],
   "source": [
    "vec = angle.encode('hello world', to_numpy = True)\n",
    "print(vec)\n",
    "vecs=angle.encode(['hello world1','hello world2'], to_numpy=True)\n",
    "print(vecs)"
   ]
  },
  {
   "cell_type": "code",
   "execution_count": null,
   "id": "48f89ec0-a03b-43b1-9fe3-f14417a9ee76",
   "metadata": {},
   "outputs": [],
   "source": [
    "from sklearn.metrics.pairwise import cosine_distances\n",
    "cosine_distances(angle.encode(['beef stakes is delicious ',\n",
    "                              'the capital of Morocco is Rabat',\n",
    "                              'I love meat']))[0]"
   ]
  },
  {
   "cell_type": "code",
   "execution_count": 20,
   "id": "546b8800-1449-4929-bac9-369dbd9b00ae",
   "metadata": {},
   "outputs": [],
   "source": [
    "import dill\n",
    "\n",
    "with open('all_variables.dill', 'wb') as f:\n",
    "    dill.dump_session(f)\n"
   ]
  },
  {
   "cell_type": "code",
   "execution_count": null,
   "id": "4760d5fe-4ad5-49cf-b729-af77aac24591",
   "metadata": {},
   "outputs": [],
   "source": [
    "with open('all_variables.dill', 'rb') as f:\n",
    "    dill.load_session(f)\n"
   ]
  }
 ],
 "metadata": {
  "kernelspec": {
   "display_name": "Python 3 (ipykernel)",
   "language": "python",
   "name": "python3"
  },
  "language_info": {
   "codemirror_mode": {
    "name": "ipython",
    "version": 3
   },
   "file_extension": ".py",
   "mimetype": "text/x-python",
   "name": "python",
   "nbconvert_exporter": "python",
   "pygments_lexer": "ipython3",
   "version": "3.12.4"
  }
 },
 "nbformat": 4,
 "nbformat_minor": 5
}
